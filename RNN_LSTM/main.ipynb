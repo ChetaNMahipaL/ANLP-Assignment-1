{
 "cells": [
  {
   "cell_type": "markdown",
   "metadata": {},
   "source": [
    "### **Importing Libraries**"
   ]
  },
  {
   "cell_type": "code",
   "execution_count": 1,
   "metadata": {},
   "outputs": [
    {
     "name": "stdout",
     "output_type": "stream",
     "text": [
      "cuda\n"
     ]
    }
   ],
   "source": [
    "import torch\n",
    "import math\n",
    "import torch.nn as nn\n",
    "import torch.nn.functional as F\n",
    "import nltk\n",
    "# nltk.download('punkt')\n",
    "from sklearn.model_selection import train_test_split\n",
    "from nltk.tokenize import word_tokenize\n",
    "from nltk.tokenize import sent_tokenize\n",
    "from gensim.models import Word2Vec\n",
    "import numpy as np\n",
    "import torch.optim as optim\n",
    "from torch.autograd import Variable\n",
    "import string\n",
    "\n",
    "\n",
    "device = torch.device('cuda' if torch.cuda.is_available() else 'cpu')\n",
    "print(device)"
   ]
  },
  {
   "cell_type": "markdown",
   "metadata": {},
   "source": [
    "### **Importing and Cleaning Dataset**"
   ]
  },
  {
   "cell_type": "code",
   "execution_count": 2,
   "metadata": {},
   "outputs": [
    {
     "name": "stdout",
     "output_type": "stream",
     "text": [
      "Dataset Loaded\n"
     ]
    }
   ],
   "source": [
    "with open('./datasets/Auguste_Maquet.txt', 'r', encoding='utf-8') as file:\n",
    "    corpus = file.read()\n",
    "\n",
    "print(\"Dataset Loaded\")\n",
    "\n",
    "corpus = corpus.lower()\n",
    "clean_text = sent_tokenize(corpus)\n",
    "translator = str.maketrans('', '', string.punctuation)\n",
    "clean_text = [sentence.translate(translator) for sentence in clean_text]\n",
    "# print(len(clean_text))\n"
   ]
  },
  {
   "cell_type": "markdown",
   "metadata": {},
   "source": [
    "### **Tokenization and Emmbedding**"
   ]
  },
  {
   "cell_type": "code",
   "execution_count": 3,
   "metadata": {},
   "outputs": [
    {
     "name": "stdout",
     "output_type": "stream",
     "text": [
      "26161\n"
     ]
    }
   ],
   "source": [
    "tokenized_corpus = [word_tokenize(sentence) for sentence in clean_text]\n",
    "word_to_ind = {}\n",
    "longest_seq = 1\n",
    "\n",
    "for i in range(len(tokenized_corpus)):\n",
    "    token_arr = tokenized_corpus[i]\n",
    "    longest_seq = max(longest_seq, len(token_arr))\n",
    "    \n",
    "    #Vocabulary\n",
    "    for tokken in token_arr:\n",
    "        if tokken not in word_to_ind:\n",
    "            word_to_ind[tokken] = len(word_to_ind)\n",
    "    \n",
    "    token_arr = ['<sos>'] * 5 + token_arr + ['<eos>'] * 5\n",
    "    tokenized_corpus[i] = token_arr\n",
    "\n",
    "# print(tokenized_corpus[2])\n",
    "word_to_ind[\"<sos>\"] = len(word_to_ind)\n",
    "word_to_ind[\"<eos>\"] = len(word_to_ind)\n",
    "print(len(word_to_ind))\n",
    "\n",
    "\n",
    "word2vec_model = Word2Vec(sentences=tokenized_corpus, vector_size=200, window=5, min_count=1, workers=4)\n"
   ]
  },
  {
   "cell_type": "markdown",
   "metadata": {},
   "source": [
    "### **Test-Train Split**"
   ]
  },
  {
   "cell_type": "code",
   "execution_count": 4,
   "metadata": {},
   "outputs": [
    {
     "name": "stdout",
     "output_type": "stream",
     "text": [
      "Training data size: 24571\n",
      "Validation data size: 3511\n",
      "Test data size: 7021\n"
     ]
    }
   ],
   "source": [
    "train_val_data, test_data = train_test_split(tokenized_corpus, test_size=0.2)\n",
    "\n",
    "train_data, validation_data = train_test_split(train_val_data, test_size=0.125)\n",
    "\n",
    "# Print the sizes of each set\n",
    "print(f\"Training data size: {len(train_data)}\")\n",
    "print(f\"Validation data size: {len(validation_data)}\")\n",
    "print(f\"Test data size: {len(test_data)}\")\n"
   ]
  },
  {
   "cell_type": "markdown",
   "metadata": {},
   "source": [
    "### **Neural Network Model**"
   ]
  },
  {
   "cell_type": "code",
   "execution_count": 5,
   "metadata": {},
   "outputs": [],
   "source": [
    "class NeuralLM(nn.Module): #https://cnvrg.io/pytorch-lstm/\n",
    "    def __init__(self, emb_dim, hidden_size, vocab_size, pretrained_embeddings, num_layers=1,dropout_rate=0.1):\n",
    "        super(NeuralLM, self).__init__()\n",
    "        self.emb_dim = emb_dim\n",
    "        self.hidden_size = hidden_size\n",
    "        self.vocab_size = vocab_size\n",
    "        self.num_layers = num_layers\n",
    "        self.embeddings = nn.Embedding.from_pretrained(torch.tensor(pretrained_embeddings), freeze=True)\n",
    "        \n",
    "        # LSTM layer\n",
    "        self.lstm = nn.LSTM(emb_dim, hidden_size, num_layers=num_layers, batch_first=True,dropout=dropout_rate if num_layers > 1 else 0)\n",
    "        # self.act_fn = nn.ReLU()\n",
    "        # self.dense_layer = nn.Linear(hidden_size, 128) #https://stackoverflow.com/questions/61149523/understanding-the-structure-of-my-lstm-model\n",
    "        # Output layer\n",
    "        self.class_layer = nn.Linear(hidden_size, vocab_size)\n",
    "        self.dropout_l = nn.Dropout(dropout_rate)\n",
    "\n",
    "    def forward(self, inp, hidden=None):\n",
    "        \n",
    "        embedded = self.embeddings(inp)\n",
    "        \n",
    "        lstm_out, hidden = self.lstm(embedded, hidden)\n",
    "        lstm_out = self.dropout_l(lstm_out)\n",
    "        lstm_out = lstm_out.contiguous().view(-1, self.hidden_size)\n",
    "        # Apply dense layer and activation\n",
    "        # dense_out = self.act_fn(self.dense_layer(self.act_fn(lstm_out)))\n",
    "        # Final output layer\n",
    "        logits = self.class_layer(lstm_out)\n",
    "        \n",
    "        return logits\n",
    "    \n",
    "    def init_hidden(self, batch_size):\n",
    "        weight = next(self.parameters()).data\n",
    "        return (weight.new(self.num_layers, batch_size, self.hidden_size).zero_(),\n",
    "                weight.new(self.num_layers, batch_size, self.hidden_size).zero_())"
   ]
  },
  {
   "cell_type": "markdown",
   "metadata": {},
   "source": [
    "### **Creating Datasets**"
   ]
  },
  {
   "cell_type": "code",
   "execution_count": 6,
   "metadata": {},
   "outputs": [],
   "source": [
    "class LM_Dataset(torch.utils.data.Dataset):\n",
    "    def __init__(self, data, seq_len):\n",
    "        self.data = data\n",
    "        self.seq_len = seq_len\n",
    "\n",
    "    def __len__(self):\n",
    "        return (self.data.size(0) - 1) // self.seq_len\n",
    "\n",
    "    def __getitem__(self, idx):\n",
    "        start = idx * self.seq_len\n",
    "        end = start + self.seq_len\n",
    "        src = self.data[start:end]\n",
    "        target = self.data[start+1:end+1]\n",
    "        return src, target"
   ]
  },
  {
   "cell_type": "markdown",
   "metadata": {},
   "source": [
    "### **Creating Input**"
   ]
  },
  {
   "cell_type": "code",
   "execution_count": 7,
   "metadata": {},
   "outputs": [],
   "source": [
    "def prepare_data(sentences, word_to_index, max_len=None):\n",
    "    def words_to_indices(words, word_to_index):\n",
    "        return [word_to_index.get(word, 0) for word in words]\n",
    "\n",
    "    all_indices = []\n",
    "\n",
    "    for sentence in sentences:\n",
    "        word_indices = words_to_indices(sentence, word_to_index)\n",
    "        \n",
    "        if max_len is not None:\n",
    "            word_indices = word_indices[:max_len]\n",
    "        \n",
    "        all_indices.extend(word_indices)\n",
    "    \n",
    "    data = torch.LongTensor(all_indices)\n",
    "    return data\n",
    "\n",
    "train_gram_inp = prepare_data(train_data, word_to_ind, max_len=40)\n",
    "val_gram_inp= prepare_data(validation_data, word_to_ind, max_len=40)\n",
    "test_gram_inp = prepare_data(test_data, word_to_ind, max_len=40)\n",
    "\n"
   ]
  },
  {
   "cell_type": "markdown",
   "metadata": {},
   "source": [
    "### **Train Model**"
   ]
  },
  {
   "cell_type": "code",
   "execution_count": 10,
   "metadata": {},
   "outputs": [
    {
     "name": "stdout",
     "output_type": "stream",
     "text": [
      "Epoch 1 Train Perplexity: 298.7179\n",
      "Epoch 1 Validation Perplexity: 140.4959\n",
      "Epoch 2 Train Perplexity: 121.4289\n",
      "Epoch 2 Validation Perplexity: 105.9166\n",
      "Epoch 3 Train Perplexity: 98.9915\n",
      "Epoch 3 Validation Perplexity: 94.7966\n",
      "Epoch 4 Train Perplexity: 88.0909\n",
      "Epoch 4 Validation Perplexity: 85.5675\n",
      "Epoch 5 Train Perplexity: 79.0143\n",
      "Epoch 5 Validation Perplexity: 77.2124\n"
     ]
    }
   ],
   "source": [
    "def train_model(model, dataloader_train, dataloader_val, optimizer, criterion, num_epochs, clip, device):\n",
    "    model.to(device)\n",
    "\n",
    "    for epoch in range(num_epochs):\n",
    "        model.train()\n",
    "        total_loss = 0\n",
    "\n",
    "        for src, target in dataloader_train:\n",
    "            src, target = src.to(device), target.to(device)\n",
    "            hidden = model.init_hidden(src.size(0))\n",
    "\n",
    "            optimizer.zero_grad()\n",
    "            output = model(src, hidden)\n",
    "            output = output.view(-1, output.size(-1))\n",
    "            target = target.view(-1)\n",
    "            loss = criterion(output, target)\n",
    "            \n",
    "            loss.backward()\n",
    "            torch.nn.utils.clip_grad_norm_(model.parameters(), clip)\n",
    "            optimizer.step()\n",
    "\n",
    "            total_loss += loss.item()\n",
    "\n",
    "        train_perplexity = math.exp(total_loss / len(dataloader_train))\n",
    "        print(f'Epoch {epoch + 1} Train Perplexity: {train_perplexity:.4f}')\n",
    "        \n",
    "        model.eval()\n",
    "        total_val_loss = 0\n",
    "\n",
    "        with torch.no_grad():\n",
    "            for src, target in dataloader_val:\n",
    "                src, target = src.to(device), target.to(device)\n",
    "                hidden = model.init_hidden(src.size(0))\n",
    "\n",
    "                output = model(src, hidden)\n",
    "                output = output.view(-1, output.size(-1))\n",
    "                target = target.view(-1)\n",
    "                loss = criterion(output, target)\n",
    "                \n",
    "                total_val_loss += loss.item()\n",
    "\n",
    "        val_perplexity = math.exp(total_val_loss / len(dataloader_val))\n",
    "        print(f'Epoch {epoch + 1} Validation Perplexity: {val_perplexity:.4f}')\n",
    "\n",
    "dataset_train = LM_Dataset(train_gram_inp, 40)\n",
    "dataloader_train = torch.utils.data.DataLoader(dataset_train, batch_size=128, shuffle=True)\n",
    "\n",
    "dataset_val = LM_Dataset(val_gram_inp, 40)\n",
    "dataloader_val = torch.utils.data.DataLoader(dataset_val, batch_size=128)\n",
    "pretrained_embeddings = word2vec_model.wv.vectors\n",
    "\n",
    "# Create model, criterion, and optimizer\n",
    "model = NeuralLM(200, 300, len(word_to_ind), pretrained_embeddings, num_layers=1, dropout_rate=0.3)\n",
    "criterion = nn.CrossEntropyLoss()\n",
    "learning_rate = 0.001\n",
    "optimizer = optim.Adam(model.parameters(), lr=learning_rate)\n",
    "\n",
    "# Train and evaluate the model\n",
    "num_epochs = 5\n",
    "clip = 0.1\n",
    "train_model(model, dataloader_train, dataloader_val, optimizer, criterion, num_epochs, clip, device)\n",
    "\n",
    "\n",
    "# dataset_train = LM_Dataset(train_gram_inp, train_cen_inp)\n",
    "# dataloader_train = torch.utils.data.DataLoader(dataset_train, batch_size=128, shuffle=True)\n",
    "\n",
    "# dataset_val = LM_Dataset(val_gram_inp, val_cen_inp)\n",
    "# dataloader_val = torch.utils.data.DataLoader(dataset_val, batch_size=128)\n",
    "\n",
    "# pretrained_embeddings = word2vec_model.wv.vectors\n",
    "\n",
    "# model = NeuralLM(200, 300, len(word_to_ind), pretrained_embeddings, num_layers=1,dropout_rate=0.3)\n",
    "# model.to(device)\n",
    "\n",
    "# num_epochs = 10\n",
    "# learning_rate = 0.001\n",
    "# criterion = nn.CrossEntropyLoss()\n",
    "# optimizer = optim.Adam(model.parameters(), lr=learning_rate)\n",
    "\n",
    "# with open('2022101096_LM2_Trai_Perplexity.txt', 'w') as train_file, open('2022101096_LM2_Validatio_Perplexity.txt', 'w') as val_file:\n",
    "     \n",
    "#     # train_file.write(f'Epoch\\tBatch\\tPerplexity\\n')\n",
    "#     # val_file.write(f'Epoch\\tBatch\\tPerplexity\\n')\n",
    "    \n",
    "#     for epoch in range(num_epochs):\n",
    "#         model.train()\n",
    "#         total_loss = 0\n",
    "\n",
    "#         for batch_index, batch in enumerate(dataloader_train):\n",
    "#             context_words, target_words = batch\n",
    "#             context_words = context_words.to(device)\n",
    "#             target_words = target_words.to(device)\n",
    "#             current_batch_size = context_words.size(0)\n",
    "#             hidden = model.init_hidden(current_batch_size)\n",
    "#             hidden = tuple([h.detach() for h in hidden])\n",
    "#             # hidden = hidden.to(device)\n",
    "\n",
    "\n",
    "#             outputs = model(context_words, hidden)  \n",
    "#             outputs = outputs.view(-1, outputs.size(-1))\n",
    "#             target_words = target_words.view(-1)\n",
    "            \n",
    "#             loss = criterion(outputs, target_words)\n",
    "#             loss.backward()  \n",
    "            \n",
    "#             optimizer.step()  \n",
    "#             optimizer.zero_grad() \n",
    "            \n",
    "#             total_loss += loss.item()\n",
    "#             batch_perplexity_t = math.exp(loss.item())\n",
    "                    \n",
    "#             # train_file.write(f'{epoch+1}\\t{batch_index+1}\\t{batch_perplexity_t:.4f}\\n')\n",
    "\n",
    "#         avg_train_loss = total_loss / len(dataloader_train)\n",
    "#         train_perplexity = math.exp(avg_train_loss)\n",
    "        \n",
    "#         # Validation loop\n",
    "#         model.eval()\n",
    "#         total_val_loss = 0\n",
    "#         correct = 0\n",
    "#         total = 0\n",
    "\n",
    "        \n",
    "#         with torch.no_grad():\n",
    "#             for batch_index, batch in enumerate(dataloader_val):\n",
    "#                 context_words, target_words = batch\n",
    "#                 context_words = context_words.to(device)\n",
    "#                 target_words = target_words.to(device)\n",
    "                \n",
    "#                 current_batch_size = context_words.size(0)\n",
    "#                 hidden = model.init_hidden(current_batch_size)\n",
    "#                 hidden = tuple([h.detach() for h in hidden])\n",
    "#                 # hidden = hidden.to(device)\n",
    "                \n",
    "#                 outputs = model(context_words, hidden)\n",
    "#                 outputs = outputs.view(-1, outputs.size(-1))\n",
    "#                 target_words = target_words.view(-1)\n",
    "                \n",
    "#                 loss = criterion(outputs, target_words)\n",
    "#                 total_val_loss += loss.item()\n",
    "#                 batch_perplexity = math.exp(loss.item())\n",
    "                    \n",
    "#                 # val_file.write(f'{epoch+1}\\t{batch_index+1}\\t{batch_perplexity:.4f}\\n')\n",
    "                \n",
    "#                 _, predicted = torch.max(outputs, 1)  \n",
    "#                 total += target_words.size(0)\n",
    "#                 correct += (predicted == target_words).sum().item()\n",
    "        \n",
    "#         avg_val_loss = total_val_loss / len(dataloader_val)\n",
    "#         val_perplexity = math.exp(avg_val_loss)\n",
    "#         accuracy = 100 * correct / total      \n",
    "    \n",
    "#         # train_file.write(f'End of Epoch {epoch+1} - Average Train Perplexity: {train_perplexity:.4f}\\n')\n",
    "#         # val_file.write(f'End of Epoch {epoch+1} - Average Val Perplexity: {val_perplexity:.4f}\\n')\n",
    "\n",
    "#         print(f'Epoch [{epoch+1}/{num_epochs}], Train Loss: {avg_train_loss:.4f}, Train Perplexity: {train_perplexity:.4f}, Val Loss: {avg_val_loss:.4f}, Val Perplexity: {val_perplexity:.4f}, Val Accuracy: {accuracy:.2f}%')\n",
    "        \n"
   ]
  },
  {
   "cell_type": "markdown",
   "metadata": {},
   "source": [
    "### **Evaluate Model**"
   ]
  },
  {
   "cell_type": "code",
   "execution_count": 12,
   "metadata": {},
   "outputs": [
    {
     "name": "stdout",
     "output_type": "stream",
     "text": [
      "Testing Begins\n",
      "Average Perplexity: 80.1207\n"
     ]
    }
   ],
   "source": [
    "print(\"Testing Begins\")\n",
    "\n",
    "# Prepare test data\n",
    "test_data_processed = prepare_data(test_data, word_to_ind, max_len=40)\n",
    "dataset_test = LM_Dataset(test_data_processed, seq_len=40)\n",
    "dataloader_test = torch.utils.data.DataLoader(dataset_test, batch_size=1)  # batch_size set to 1 for sequential processing\n",
    "\n",
    "model.eval()\n",
    "total_loss = 0\n",
    "\n",
    "criterion = nn.CrossEntropyLoss()\n",
    "\n",
    "with torch.no_grad():\n",
    "    for batch_index, (src, target) in enumerate(dataloader_test):\n",
    "        src, target = src.to(device), target.to(device)\n",
    "        \n",
    "        # Initialize hidden state\n",
    "        hidden = model.init_hidden(src.size(0))\n",
    "\n",
    "        # Forward pass\n",
    "        outputs = model(src, hidden)\n",
    "        outputs = outputs.view(-1, outputs.size(-1))\n",
    "        target = target.view(-1)\n",
    "\n",
    "        # Compute loss\n",
    "        loss = criterion(outputs, target)\n",
    "        total_loss += loss.item()\n",
    "\n",
    "        # Compute perplexity\n",
    "        perplexity = math.exp(loss.item())\n",
    "        \n",
    "        # Optionally print batch-wise perplexity\n",
    "        # print(f'Batch {batch_index + 1} Perplexity: {perplexity:.4f}')\n",
    "\n",
    "    # Compute average perplexity\n",
    "    average_perplexity = math.exp(total_loss / len(dataloader_test))\n",
    "    print(f'Average Perplexity: {average_perplexity:.4f}')\n",
    "\n",
    "# Optionally save perplexity to file\n",
    "with open('2022101096_LM2_Tes_Perplexity.txt', 'w') as f:\n",
    "    f.write(f'Average Perplexity: {average_perplexity:.4f}\\n')\n"
   ]
  },
  {
   "cell_type": "code",
   "execution_count": null,
   "metadata": {},
   "outputs": [],
   "source": [
    "# Save the entire model\n",
    "torch.save(model, 'model/model_LM2.pth')"
   ]
  }
 ],
 "metadata": {
  "kernelspec": {
   "display_name": "Python 3",
   "language": "python",
   "name": "python3"
  },
  "language_info": {
   "codemirror_mode": {
    "name": "ipython",
    "version": 3
   },
   "file_extension": ".py",
   "mimetype": "text/x-python",
   "name": "python",
   "nbconvert_exporter": "python",
   "pygments_lexer": "ipython3",
   "version": "3.11.5"
  }
 },
 "nbformat": 4,
 "nbformat_minor": 2
}
