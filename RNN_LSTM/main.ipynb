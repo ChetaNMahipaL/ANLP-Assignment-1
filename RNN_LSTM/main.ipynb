{
 "cells": [
  {
   "cell_type": "markdown",
   "metadata": {},
   "source": [
    "### **Importing Libraries**"
   ]
  },
  {
   "cell_type": "code",
   "execution_count": 1,
   "metadata": {},
   "outputs": [
    {
     "name": "stdout",
     "output_type": "stream",
     "text": [
      "cuda\n"
     ]
    }
   ],
   "source": [
    "import torch\n",
    "import math\n",
    "import torch.nn as nn\n",
    "import torch.nn.functional as F\n",
    "import nltk\n",
    "# nltk.download('punkt')\n",
    "from sklearn.model_selection import train_test_split\n",
    "from nltk.tokenize import word_tokenize\n",
    "from nltk.tokenize import sent_tokenize\n",
    "from gensim.models import Word2Vec\n",
    "import numpy as np\n",
    "import torch.optim as optim\n",
    "from torch.autograd import Variable\n",
    "import string\n",
    "\n",
    "\n",
    "device = torch.device('cuda' if torch.cuda.is_available() else 'cpu')\n",
    "print(device)"
   ]
  },
  {
   "cell_type": "markdown",
   "metadata": {},
   "source": [
    "### **Importing and Cleaning Dataset**"
   ]
  },
  {
   "cell_type": "code",
   "execution_count": 2,
   "metadata": {},
   "outputs": [
    {
     "name": "stdout",
     "output_type": "stream",
     "text": [
      "Dataset Loaded\n"
     ]
    }
   ],
   "source": [
    "with open('./datasets/Auguste_Maquet.txt', 'r', encoding='utf-8') as file:\n",
    "    corpus = file.read()\n",
    "\n",
    "print(\"Dataset Loaded\")\n",
    "\n",
    "corpus = corpus.lower()\n",
    "clean_text = sent_tokenize(corpus)\n",
    "translator = str.maketrans('', '', string.punctuation)\n",
    "clean_text = [sentence.translate(translator) for sentence in clean_text]\n",
    "# print(len(clean_text))\n"
   ]
  },
  {
   "cell_type": "markdown",
   "metadata": {},
   "source": [
    "### **Tokenization and Emmbedding**"
   ]
  },
  {
   "cell_type": "code",
   "execution_count": 3,
   "metadata": {},
   "outputs": [
    {
     "name": "stdout",
     "output_type": "stream",
     "text": [
      "26161\n"
     ]
    }
   ],
   "source": [
    "tokenized_corpus = [word_tokenize(sentence) for sentence in clean_text]\n",
    "word_to_ind = {}\n",
    "longest_seq = 1\n",
    "\n",
    "for i in range(len(tokenized_corpus)):\n",
    "    token_arr = tokenized_corpus[i]\n",
    "    longest_seq = max(longest_seq, len(token_arr))\n",
    "    \n",
    "    #Vocabulary\n",
    "    for tokken in token_arr:\n",
    "        if tokken not in word_to_ind:\n",
    "            word_to_ind[tokken] = len(word_to_ind)\n",
    "    \n",
    "    token_arr = ['<sos>'] * 5 + token_arr + ['<eos>'] * 5\n",
    "    tokenized_corpus[i] = token_arr\n",
    "\n",
    "# print(tokenized_corpus[2])\n",
    "word_to_ind[\"<sos>\"] = len(word_to_ind)\n",
    "word_to_ind[\"<eos>\"] = len(word_to_ind)\n",
    "print(len(word_to_ind))\n",
    "\n",
    "\n",
    "word2vec_model = Word2Vec(sentences=tokenized_corpus, vector_size=200, window=5, min_count=1, workers=4)\n"
   ]
  },
  {
   "cell_type": "markdown",
   "metadata": {},
   "source": [
    "### **Test-Train Split**"
   ]
  },
  {
   "cell_type": "code",
   "execution_count": 4,
   "metadata": {},
   "outputs": [
    {
     "name": "stdout",
     "output_type": "stream",
     "text": [
      "Training data size: 24571\n",
      "Validation data size: 3511\n",
      "Test data size: 7021\n"
     ]
    }
   ],
   "source": [
    "train_val_data, test_data = train_test_split(tokenized_corpus, test_size=0.2)\n",
    "\n",
    "train_data, validation_data = train_test_split(train_val_data, test_size=0.125)\n",
    "\n",
    "# Print the sizes of each set\n",
    "print(f\"Training data size: {len(train_data)}\")\n",
    "print(f\"Validation data size: {len(validation_data)}\")\n",
    "print(f\"Test data size: {len(test_data)}\")\n"
   ]
  },
  {
   "cell_type": "markdown",
   "metadata": {},
   "source": [
    "### **Neural Network Model**"
   ]
  },
  {
   "cell_type": "code",
   "execution_count": 5,
   "metadata": {},
   "outputs": [],
   "source": [
    "class NeuralLM(nn.Module): #https://cnvrg.io/pytorch-lstm/\n",
    "    def __init__(self, emb_dim, hidden_size, vocab_size, pretrained_embeddings, num_layers=1):\n",
    "        super(NeuralLM, self).__init__()\n",
    "        self.emb_dim = emb_dim\n",
    "        self.hidden_size = hidden_size\n",
    "        self.vocab_size = vocab_size\n",
    "        self.num_layers = num_layers\n",
    "        self.embeddings = nn.Embedding.from_pretrained(torch.tensor(pretrained_embeddings), freeze=True)\n",
    "        \n",
    "        # LSTM layer\n",
    "        self.lstm = nn.LSTM(emb_dim, hidden_size, num_layers=num_layers, batch_first=True)\n",
    "        self.act_fn = nn.ReLU()\n",
    "        self.dense_layer = nn.Linear(hidden_size, 128) #https://stackoverflow.com/questions/61149523/understanding-the-structure-of-my-lstm-model\n",
    "        # Output layer\n",
    "        self.class_layer = nn.Linear(128, vocab_size)\n",
    "\n",
    "    def forward(self, inp):\n",
    "        \n",
    "        embedded = self.embeddings(inp)\n",
    "        \n",
    "        lstm_out, _ = self.lstm(embedded)\n",
    "        lstm_out = lstm_out.contiguous().view(-1, self.hidden_size)\n",
    "        # Apply dense layer and activation\n",
    "        dense_out = self.act_fn(self.dense_layer(self.act_fn(lstm_out)))\n",
    "        # Final output layer\n",
    "        logits = self.class_layer(dense_out)\n",
    "        \n",
    "        return logits"
   ]
  },
  {
   "cell_type": "markdown",
   "metadata": {},
   "source": [
    "### **Creating Datasets**"
   ]
  },
  {
   "cell_type": "code",
   "execution_count": 6,
   "metadata": {},
   "outputs": [],
   "source": [
    "class LM_Dataset(torch.utils.data.Dataset):\n",
    "    def __init__(self, sentences, targets):\n",
    "        self.sentences = sentences\n",
    "        self.targets = targets\n",
    "\n",
    "    def __len__(self):\n",
    "        return len(self.sentences)\n",
    "\n",
    "    def __getitem__(self, idx):\n",
    "        sentence = self.sentences[idx]\n",
    "        target = self.targets[idx]\n",
    "        return torch.tensor(sentence), torch.tensor(target)"
   ]
  },
  {
   "cell_type": "markdown",
   "metadata": {},
   "source": [
    "### **Creating Input**"
   ]
  },
  {
   "cell_type": "code",
   "execution_count": 7,
   "metadata": {},
   "outputs": [],
   "source": [
    "def process_sentences(sentences, word_to_index, max_len=None):\n",
    "    def words_to_indices(words, word_to_index):\n",
    "        return [word_to_index.get(word, 0) for word in words]\n",
    "    \n",
    "    context_indices = []\n",
    "    central_word_indices = []\n",
    "\n",
    "    for sentence in sentences:\n",
    "        word_indices = words_to_indices(sentence, word_to_index)\n",
    "        \n",
    "        if max_len is not None:\n",
    "            word_indices = word_indices[:max_len] + [0] * (max_len - len(word_indices))\n",
    "\n",
    "        context_indices.append(word_indices[:-1])\n",
    "        \n",
    "        central_word_indices.append(word_indices[1:])\n",
    "\n",
    "    return context_indices, central_word_indices\n",
    "\n",
    "train_gram_inp, train_cen_inp = process_sentences(train_data, word_to_ind, max_len=40)\n",
    "val_gram_inp, val_cen_inp = process_sentences(validation_data, word_to_ind, max_len=40)\n",
    "test_gram_inp, test_cen_inp = process_sentences(test_data, word_to_ind, max_len=40)\n",
    "\n"
   ]
  },
  {
   "cell_type": "markdown",
   "metadata": {},
   "source": [
    "### **Train Model**"
   ]
  },
  {
   "cell_type": "code",
   "execution_count": 8,
   "metadata": {},
   "outputs": [
    {
     "name": "stdout",
     "output_type": "stream",
     "text": [
      "Epoch [1/10], Train Loss: 4.9878, Train Perplexity: 146.6086, Val Loss: 3.9375, Val Perplexity: 51.2919, Val Accuracy: 43.41%\n",
      "Epoch [2/10], Train Loss: 3.7509, Train Perplexity: 42.5598, Val Loss: 3.6042, Val Perplexity: 36.7508, Val Accuracy: 46.96%\n",
      "Epoch [3/10], Train Loss: 3.5604, Train Perplexity: 35.1773, Val Loss: 3.4958, Val Perplexity: 32.9769, Val Accuracy: 48.14%\n",
      "Epoch [4/10], Train Loss: 3.4587, Train Perplexity: 31.7744, Val Loss: 3.4236, Val Perplexity: 30.6804, Val Accuracy: 49.13%\n",
      "Epoch [5/10], Train Loss: 3.3861, Train Perplexity: 29.5491, Val Loss: 3.3656, Val Perplexity: 28.9496, Val Accuracy: 49.80%\n",
      "Epoch [6/10], Train Loss: 3.3228, Train Perplexity: 27.7368, Val Loss: 3.3161, Val Perplexity: 27.5527, Val Accuracy: 50.29%\n",
      "Epoch [7/10], Train Loss: 3.2669, Train Perplexity: 26.2289, Val Loss: 3.2700, Val Perplexity: 26.3102, Val Accuracy: 50.54%\n",
      "Epoch [8/10], Train Loss: 3.2180, Train Perplexity: 24.9789, Val Loss: 3.2333, Val Perplexity: 25.3629, Val Accuracy: 50.80%\n",
      "Epoch [9/10], Train Loss: 3.1740, Train Perplexity: 23.9037, Val Loss: 3.2078, Val Perplexity: 24.7257, Val Accuracy: 51.06%\n",
      "Epoch [10/10], Train Loss: 3.1375, Train Perplexity: 23.0467, Val Loss: 3.1797, Val Perplexity: 24.0397, Val Accuracy: 51.29%\n"
     ]
    }
   ],
   "source": [
    "dataset_train = LM_Dataset(train_gram_inp, train_cen_inp)\n",
    "dataloader_train = torch.utils.data.DataLoader(dataset_train, batch_size=128, shuffle=True)\n",
    "\n",
    "dataset_val = LM_Dataset(val_gram_inp, val_cen_inp)\n",
    "dataloader_val = torch.utils.data.DataLoader(dataset_val, batch_size=128)\n",
    "\n",
    "pretrained_embeddings = word2vec_model.wv.vectors\n",
    "\n",
    "model = NeuralLM(200, 300, len(word_to_ind), pretrained_embeddings, num_layers=1)\n",
    "model.to(device)\n",
    "\n",
    "num_epochs = 10\n",
    "learning_rate = 0.001\n",
    "criterion = nn.CrossEntropyLoss()\n",
    "optimizer = optim.Adam(model.parameters(), lr=learning_rate)\n",
    "\n",
    "with open('2022101096_LM2_Train_Perplexity.txt', 'w') as train_file, open('2022101096_LM2_Validation_Perplexity.txt', 'w') as val_file:\n",
    "     \n",
    "    train_file.write(f'Epoch\\tBatch\\tPerplexity\\n')\n",
    "    val_file.write(f'Epoch\\tBatch\\tPerplexity\\n')\n",
    "    \n",
    "    for epoch in range(num_epochs):\n",
    "        model.train()\n",
    "        total_loss = 0\n",
    "\n",
    "        for batch_index, batch in enumerate(dataloader_train):\n",
    "            context_words, target_words = batch\n",
    "            context_words = context_words.to(device)\n",
    "            target_words = target_words.to(device)\n",
    "\n",
    "            outputs = model(context_words)  \n",
    "            outputs = outputs.view(-1, outputs.size(-1))\n",
    "            target_words = target_words.view(-1)\n",
    "            \n",
    "            loss = criterion(outputs, target_words)\n",
    "            loss.backward()  \n",
    "            optimizer.step()  \n",
    "            optimizer.zero_grad() \n",
    "            \n",
    "            total_loss += loss.item()\n",
    "            batch_perplexity_t = math.exp(loss.item())\n",
    "                    \n",
    "            train_file.write(f'{epoch+1}\\t{batch_index+1}\\t{batch_perplexity_t:.4f}\\n')\n",
    "\n",
    "        avg_train_loss = total_loss / len(dataloader_train)\n",
    "        train_perplexity = math.exp(avg_train_loss)\n",
    "        \n",
    "        # Validation loop\n",
    "        model.eval()\n",
    "        total_val_loss = 0\n",
    "        correct = 0\n",
    "        total = 0\n",
    "        \n",
    "        with torch.no_grad():\n",
    "            for batch_index, batch in enumerate(dataloader_val):\n",
    "                context_words, target_words = batch\n",
    "                context_words = context_words.to(device)\n",
    "                target_words = target_words.to(device)\n",
    "                \n",
    "                outputs = model(context_words)\n",
    "                outputs = outputs.view(-1, outputs.size(-1))\n",
    "                target_words = target_words.view(-1)\n",
    "                \n",
    "                loss = criterion(outputs, target_words)\n",
    "                total_val_loss += loss.item()\n",
    "                batch_perplexity = math.exp(loss.item())\n",
    "                    \n",
    "                val_file.write(f'{epoch+1}\\t{batch_index+1}\\t{batch_perplexity:.4f}\\n')\n",
    "                \n",
    "                _, predicted = torch.max(outputs, 1)  \n",
    "                total += target_words.size(0)\n",
    "                correct += (predicted == target_words).sum().item()\n",
    "        \n",
    "        avg_val_loss = total_val_loss / len(dataloader_val)\n",
    "        val_perplexity = math.exp(avg_val_loss)\n",
    "        accuracy = 100 * correct / total      \n",
    "    \n",
    "        train_file.write(f'End of Epoch {epoch+1} - Average Train Perplexity: {train_perplexity:.4f}\\n')\n",
    "        val_file.write(f'End of Epoch {epoch+1} - Average Val Perplexity: {val_perplexity:.4f}\\n')\n",
    "\n",
    "        print(f'Epoch [{epoch+1}/{num_epochs}], Train Loss: {avg_train_loss:.4f}, Train Perplexity: {train_perplexity:.4f}, Val Loss: {avg_val_loss:.4f}, Val Perplexity: {val_perplexity:.4f}, Val Accuracy: {accuracy:.2f}%')\n",
    "        \n"
   ]
  },
  {
   "cell_type": "markdown",
   "metadata": {},
   "source": [
    "### **Evaluate Model**"
   ]
  },
  {
   "cell_type": "code",
   "execution_count": 11,
   "metadata": {},
   "outputs": [
    {
     "name": "stdout",
     "output_type": "stream",
     "text": [
      "Testing Begins\n",
      "Average Perplexity: 25.4760\n"
     ]
    }
   ],
   "source": [
    "print(\"Testing Begins\")\n",
    "dataset_test = LM_Dataset(test_gram_inp, test_cen_inp)\n",
    "dataloader_test = torch.utils.data.DataLoader(dataset_test, batch_size=128)\n",
    "\n",
    "model.eval()\n",
    "correct = 0\n",
    "total = 0\n",
    "total_loss = 0\n",
    "total_tokens = 0\n",
    "criteria = nn.CrossEntropyLoss()\n",
    "\n",
    "with open('2022101096_LM2_Test_Perplexity.txt', 'w') as f:\n",
    "    total_loss = 0\n",
    "    f.write(f'Batch\\tPerplexity\\n')\n",
    "\n",
    "    with torch.no_grad():\n",
    "        for batch_index, batch in enumerate(dataloader_test):\n",
    "            context_words, target_words = batch\n",
    "            context_words = context_words.to(device)\n",
    "            target_words = target_words.to(device)\n",
    "\n",
    "            outputs = model(context_words)\n",
    "            outputs = outputs.view(-1, outputs.size(-1))\n",
    "            target_words = target_words.view(-1)\n",
    "\n",
    "            loss = criterion(outputs, target_words)\n",
    "            total_loss += loss.item()\n",
    "\n",
    "            perplexity = math.exp(loss.item())\n",
    "\n",
    "            f.write(f'{batch_index+1}\\t{perplexity:.4f}\\n')\n",
    "\n",
    "        average_perplexity = math.exp(total_loss / len(dataloader_test))\n",
    "        f.write(f'Average perplexity:\\t{average_perplexity:.4f}\\n')\n",
    "\n",
    "    print(f'Average Perplexity: {average_perplexity:.4f}')"
   ]
  },
  {
   "cell_type": "code",
   "execution_count": 12,
   "metadata": {},
   "outputs": [],
   "source": [
    "# Save the entire model\n",
    "torch.save(model, 'model/model_LM2.pth')"
   ]
  }
 ],
 "metadata": {
  "kernelspec": {
   "display_name": "Python 3",
   "language": "python",
   "name": "python3"
  },
  "language_info": {
   "codemirror_mode": {
    "name": "ipython",
    "version": 3
   },
   "file_extension": ".py",
   "mimetype": "text/x-python",
   "name": "python",
   "nbconvert_exporter": "python",
   "pygments_lexer": "ipython3",
   "version": "3.11.5"
  }
 },
 "nbformat": 4,
 "nbformat_minor": 2
}
