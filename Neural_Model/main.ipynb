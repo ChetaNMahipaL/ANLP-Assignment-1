{
 "cells": [
  {
   "cell_type": "markdown",
   "metadata": {},
   "source": [
    "### **Importing Libraries**"
   ]
  },
  {
   "cell_type": "code",
   "execution_count": 1,
   "metadata": {},
   "outputs": [
    {
     "name": "stdout",
     "output_type": "stream",
     "text": [
      "cuda\n"
     ]
    }
   ],
   "source": [
    "import torch\n",
    "import math\n",
    "import torch.nn as nn\n",
    "import torch.nn.functional as F\n",
    "import nltk\n",
    "# nltk.download('punkt')\n",
    "from sklearn.model_selection import train_test_split\n",
    "from nltk.tokenize import word_tokenize\n",
    "from nltk.tokenize import sent_tokenize\n",
    "from gensim.models import Word2Vec\n",
    "import numpy as np\n",
    "import torch.optim as optim\n",
    "from torch.autograd import Variable\n",
    "import string\n",
    "import matplotlib.pyplot as plt\n",
    "\n",
    "\n",
    "device = torch.device('cuda' if torch.cuda.is_available() else 'cpu')\n",
    "print(device)"
   ]
  },
  {
   "cell_type": "markdown",
   "metadata": {},
   "source": [
    "### **Importing and Cleaning Dataset**"
   ]
  },
  {
   "cell_type": "code",
   "execution_count": 2,
   "metadata": {},
   "outputs": [
    {
     "name": "stdout",
     "output_type": "stream",
     "text": [
      "Dataset Loaded\n"
     ]
    }
   ],
   "source": [
    "with open('./datasets/Auguste_Maquet.txt', 'r', encoding='utf-8') as file:\n",
    "    corpus = file.read()\n",
    "\n",
    "print(\"Dataset Loaded\")\n",
    "\n",
    "corpus = corpus.lower()\n",
    "clean_text = sent_tokenize(corpus)\n",
    "translator = str.maketrans('', '', string.punctuation)\n",
    "clean_text = [sentence.translate(translator) for sentence in clean_text]\n",
    "# print(len(clean_text))"
   ]
  },
  {
   "cell_type": "markdown",
   "metadata": {},
   "source": [
    "### **Tokenization and Emmbedding**"
   ]
  },
  {
   "cell_type": "code",
   "execution_count": 3,
   "metadata": {},
   "outputs": [
    {
     "name": "stdout",
     "output_type": "stream",
     "text": [
      "Tokanized the input\n",
      "Prepare Word Embeddings\n"
     ]
    }
   ],
   "source": [
    "tokenized_corpus = [word_tokenize(sentence) for sentence in clean_text]\n",
    "word_to_ind = {}\n",
    "for i in range(len(tokenized_corpus)):\n",
    "    token_arr = tokenized_corpus[i]\n",
    "    \n",
    "    #Vocabulary\n",
    "    for tokken in token_arr:\n",
    "        if tokken not in word_to_ind:\n",
    "            word_to_ind[tokken] = len(word_to_ind)\n",
    "    \n",
    "    token_arr = ['<sos>'] * 5 + token_arr + ['<eos>'] * 5\n",
    "    tokenized_corpus[i] = token_arr\n",
    "\n",
    "# print(tokenized_corpus[2])\n",
    "word_to_ind[\"<sos>\"] = len(word_to_ind)\n",
    "word_to_ind[\"<eos>\"] = len(word_to_ind)\n",
    "# print(len(word_to_ind))\n",
    "print(\"Tokanized the input\")\n",
    "\n",
    "\n",
    "word2vec_model = Word2Vec(sentences=tokenized_corpus, vector_size=100, window=5, min_count=1, workers=4)\n",
    "\n",
    "print(\"Prepare Word Embeddings\")"
   ]
  },
  {
   "cell_type": "markdown",
   "metadata": {},
   "source": [
    "### **Test-Train Split**"
   ]
  },
  {
   "cell_type": "code",
   "execution_count": 4,
   "metadata": {},
   "outputs": [
    {
     "name": "stdout",
     "output_type": "stream",
     "text": [
      "Training data size: 24571\n",
      "Validation data size: 3511\n",
      "Test data size: 7021\n"
     ]
    }
   ],
   "source": [
    "train_val_data, test_data = train_test_split(tokenized_corpus, test_size=0.2)\n",
    "\n",
    "train_data, validation_data = train_test_split(train_val_data, test_size=0.125)\n",
    "\n",
    "# Print the sizes of each set\n",
    "print(f\"Training data size: {len(train_data)}\")\n",
    "print(f\"Validation data size: {len(validation_data)}\")\n",
    "print(f\"Test data size: {len(test_data)}\")\n"
   ]
  },
  {
   "cell_type": "markdown",
   "metadata": {},
   "source": [
    "### **Neural Network Model**"
   ]
  },
  {
   "cell_type": "code",
   "execution_count": 5,
   "metadata": {},
   "outputs": [],
   "source": [
    "class NeuralLM(nn.Module):\n",
    "    def __init__(self, emb_dim, hidden_size, context_size, vocab_size, pretrained_embeddings,dropout_rate):\n",
    "        super(NeuralLM, self).__init__()\n",
    "        self.emb_dim = emb_dim\n",
    "        self.hidden_size = hidden_size\n",
    "        self.context_size = context_size\n",
    "        self.vocab_size = vocab_size\n",
    "        self.embeddings = nn.Embedding.from_pretrained(torch.tensor(pretrained_embeddings), freeze=True)\n",
    "        #Model Layers\n",
    "        self.l1 = torch.nn.Linear(self.context_size * self.emb_dim, self.hidden_size)\n",
    "        self.a1 = torch.nn.Tanh()\n",
    "        self.dropout = nn.Dropout(p=dropout_rate)\n",
    "        self.l2 = torch.nn.Linear(self.hidden_size, self.vocab_size)\n",
    "\n",
    "    def forward(self, inp):\n",
    "        #Prepairing Embeddings\n",
    "        inp = self.embeddings(inp)\n",
    "        inp = inp.view(inp.size(1), -1) \n",
    "        # print(inp.shape)\n",
    "        \n",
    "        inp = self.l1(inp)\n",
    "        inp = self.a1(inp)\n",
    "        inp = self.dropout(inp)\n",
    "        inp = self.l2(inp)\n",
    "        return inp\n"
   ]
  },
  {
   "cell_type": "markdown",
   "metadata": {},
   "source": [
    "### **Creating Datasets**"
   ]
  },
  {
   "cell_type": "code",
   "execution_count": 6,
   "metadata": {},
   "outputs": [],
   "source": [
    "class EntityDataset(torch.utils.data.Dataset):\n",
    "    def __init__(self, context_indices, next_word_indices):\n",
    "        self.context_indices = context_indices\n",
    "        self.next_word_indices = next_word_indices\n",
    "\n",
    "    def __len__(self):\n",
    "        return len(self.next_word_indices)\n",
    "    \n",
    "    def __getitem__(self, index):\n",
    "        return torch.tensor(self.context_indices[index]), torch.tensor(self.next_word_indices[index])\n"
   ]
  },
  {
   "cell_type": "markdown",
   "metadata": {},
   "source": [
    "### **Creating Input**"
   ]
  },
  {
   "cell_type": "code",
   "execution_count": 7,
   "metadata": {},
   "outputs": [
    {
     "name": "stdout",
     "output_type": "stream",
     "text": [
      "841510\n"
     ]
    }
   ],
   "source": [
    "N_Gram = 5\n",
    "\n",
    "def process_sentences(sentences, word_to_index, context_size):\n",
    "    def words_to_indices(words, word_to_index):\n",
    "        return [word_to_index.get(word, 0) for word in words]  # Default to 0 if word not in vocab\n",
    "\n",
    "    context_indices = []\n",
    "    central_word_indices = []\n",
    "\n",
    "    for sentence in sentences:\n",
    "        word_indices = words_to_indices(sentence, word_to_index)\n",
    "\n",
    "        for i in range(len(sentence) - context_size):\n",
    "            context_window = word_indices[i:i + context_size]\n",
    "            context_indices.append(context_window)\n",
    "            central_word_indices.append(word_to_index.get(sentence[i + context_size], 0))\n",
    "\n",
    "    return context_indices, central_word_indices\n",
    "\n",
    "\n",
    "train_gram_inp, train_cen_inp = process_sentences(train_data, word_to_ind, N_Gram)\n",
    "val_gram_inp, val_cen_inp = process_sentences(validation_data, word_to_ind, N_Gram)\n",
    "test_gram_inp, test_cen_inp = process_sentences(test_data, word_to_ind, N_Gram)\n",
    "\n",
    "print(len(train_cen_inp))\n"
   ]
  },
  {
   "cell_type": "markdown",
   "metadata": {},
   "source": [
    "### **Train Model**"
   ]
  },
  {
   "cell_type": "code",
   "execution_count": 9,
   "metadata": {},
   "outputs": [
    {
     "name": "stdout",
     "output_type": "stream",
     "text": [
      "Epoch [1/5], Train Loss: 6.8691, Train Perplexity: 962.0590, Val Loss: 6.3108, Val Perplexity: 550.4783, Val Accuracy: 14.62%\n",
      "Epoch [2/5], Train Loss: 6.2815, Train Perplexity: 534.5713, Val Loss: 6.1533, Val Perplexity: 470.2693, Val Accuracy: 14.62%\n",
      "Epoch [3/5], Train Loss: 6.1727, Train Perplexity: 479.4604, Val Loss: 6.0880, Val Perplexity: 440.5519, Val Accuracy: 14.62%\n",
      "Epoch [4/5], Train Loss: 6.1187, Train Perplexity: 454.2687, Val Loss: 6.0540, Val Perplexity: 425.8210, Val Accuracy: 14.62%\n",
      "Epoch [5/5], Train Loss: 6.0868, Train Perplexity: 439.9962, Val Loss: 6.0322, Val Perplexity: 416.6157, Val Accuracy: 14.62%\n",
      "Training and Validation Complete.\n"
     ]
    }
   ],
   "source": [
    "dataset_train = EntityDataset(train_gram_inp, train_cen_inp)\n",
    "dataloader_train = torch.utils.data.DataLoader(dataset_train, batch_size=128)\n",
    "\n",
    "dataset_val = EntityDataset(val_gram_inp, val_cen_inp)\n",
    "dataloader_val = torch.utils.data.DataLoader(dataset_val, batch_size=128)\n",
    "\n",
    "pretrained_embeddings = word2vec_model.wv.vectors\n",
    "\n",
    "model = NeuralLM(100, 300, N_Gram, len(word_to_ind), pretrained_embeddings,dropout_rate=0.3)\n",
    "model.to(device)\n",
    "\n",
    "num_epochs = 5\n",
    "learning_rate = 0.01\n",
    "criterion = nn.CrossEntropyLoss()\n",
    "optimizer = optim.SGD(model.parameters(), lr=learning_rate)\n",
    "perp_vis_t = []\n",
    "perp_vis_val = []\n",
    "\n",
    "with open('2022101096_LM1_Train_Perplexity.txt', 'w') as train_file, open('2022101096_LM1_Validation_Perplexity.txt', 'w') as val_file:\n",
    "     \n",
    "    train_file.write(f'Epoch\\tBatch\\tPerplexity\\n')\n",
    "    val_file.write(f'Epoch\\tBatch\\tPerplexity\\n')\n",
    "    \n",
    "    for epoch in range(num_epochs):\n",
    "        model.train()\n",
    "        total_loss = 0\n",
    "\n",
    "        for batch_index, batch in enumerate(dataloader_train):\n",
    "            context_words, target_words = batch\n",
    "            trans_context = torch.transpose(context_words,0,1)\n",
    "            trans_context = trans_context.to(device)\n",
    "            target_words = target_words.to(device)\n",
    "            \n",
    "            outputs = model(trans_context) \n",
    "            outputs = outputs.view(-1, outputs.size(-1))\n",
    "            target_words = target_words.view(-1)\n",
    "            \n",
    "            loss = criterion(outputs, target_words)\n",
    "            loss.backward()  \n",
    "            optimizer.step()  \n",
    "            optimizer.zero_grad() \n",
    "            \n",
    "            total_loss += loss.item()\n",
    "            batch_perplexity_t = math.exp(loss.item())\n",
    "                    \n",
    "            train_file.write(f'{epoch+1}\\t{batch_index+1}\\t{batch_perplexity_t:.4f}\\n')\n",
    "\n",
    "        avg_train_loss = total_loss / len(dataloader_train)\n",
    "        train_perplexity = math.exp(avg_train_loss)\n",
    "        \n",
    "        # Validation loop\n",
    "        model.eval()\n",
    "        total_val_loss = 0\n",
    "        correct = 0\n",
    "        total = 0\n",
    "        \n",
    "        with torch.no_grad():\n",
    "            for batch_index, batch in enumerate(dataloader_val):\n",
    "                context_words, target_words = batch\n",
    "                trans_context = torch.transpose(context_words,0,1)\n",
    "                trans_context = trans_context.to(device)\n",
    "                target_words = target_words.to(device)\n",
    "                \n",
    "                outputs = model(trans_context)\n",
    "                outputs = outputs.view(-1, outputs.size(-1))\n",
    "                target_words = target_words.view(-1)\n",
    "                \n",
    "                loss = criterion(outputs, target_words)\n",
    "                total_val_loss += loss.item()\n",
    "                batch_perplexity = math.exp(loss.item())\n",
    "                    \n",
    "                val_file.write(f'{epoch+1}\\t{batch_index+1}\\t{batch_perplexity:.4f}\\n')\n",
    "                \n",
    "                _, predicted = torch.max(outputs, 1)  \n",
    "                total += target_words.size(0)\n",
    "                correct += (predicted == target_words).sum().item()\n",
    "        \n",
    "        avg_val_loss = total_val_loss / len(dataloader_val)\n",
    "        val_perplexity = math.exp(avg_val_loss)\n",
    "        accuracy = 100 * correct / total   \n",
    "\n",
    "        perp_vis_t.append(train_perplexity)\n",
    "        perp_vis_val.append(val_perplexity)\n",
    "    \n",
    "        train_file.write(f'End of Epoch {epoch+1} - Average Train Perplexity: {train_perplexity:.4f}\\n')\n",
    "        val_file.write(f'End of Epoch {epoch+1} - Average Val Perplexity: {val_perplexity:.4f}\\n')\n",
    "\n",
    "        print(f'Epoch [{epoch+1}/{num_epochs}], Train Loss: {avg_train_loss:.4f}, Train Perplexity: {train_perplexity:.4f}, Val Loss: {avg_val_loss:.4f}, Val Perplexity: {val_perplexity:.4f}, Val Accuracy: {accuracy:.2f}%')\n",
    "        \n",
    "print(\"Training and Validation Complete.\")\n"
   ]
  },
  {
   "cell_type": "markdown",
   "metadata": {},
   "source": [
    "### **Evaluate Model**"
   ]
  },
  {
   "cell_type": "code",
   "execution_count": 10,
   "metadata": {},
   "outputs": [
    {
     "name": "stdout",
     "output_type": "stream",
     "text": [
      "Testing Begins\n",
      "Average Perplexity: 427.5120\n"
     ]
    }
   ],
   "source": [
    "print(\"Testing Begins\")\n",
    "dataset_test = EntityDataset(test_gram_inp, test_cen_inp)\n",
    "dataloader_test = torch.utils.data.DataLoader(dataset_test, batch_size=128)\n",
    "\n",
    "model.eval()\n",
    "correct = 0\n",
    "total = 0\n",
    "total_loss = 0\n",
    "total_tokens = 0\n",
    "criteria = nn.CrossEntropyLoss()\n",
    "\n",
    "with open('2022101096_LM1_Test_Perplexity.txt', 'w') as f:\n",
    "    total_loss = 0\n",
    "    f.write(f'Batch\\tPerplexity\\n')\n",
    "\n",
    "    with torch.no_grad():\n",
    "        for batch_index, batch in enumerate(dataloader_test):\n",
    "            context_words, target_words = batch\n",
    "            trans_context = torch.transpose(context_words,0,1)\n",
    "            trans_context = trans_context.to(device)\n",
    "            target_words = target_words.to(device)\n",
    "\n",
    "            outputs = model(trans_context)\n",
    "            outputs = outputs.view(-1, outputs.size(-1))\n",
    "            target_words = target_words.view(-1)\n",
    "\n",
    "            loss = criterion(outputs, target_words)\n",
    "            total_loss += loss.item()\n",
    "\n",
    "            perplexity = math.exp(loss.item())\n",
    "\n",
    "            f.write(f'{batch_index+1}\\t{perplexity:.4f}\\n')\n",
    "\n",
    "        average_perplexity = math.exp(total_loss / len(dataloader_test))\n",
    "        f.write(f'Average perplexity:\\t{average_perplexity:.4f}\\n')\n",
    "\n",
    "    print(f'Average Perplexity: {average_perplexity:.4f}')\n"
   ]
  },
  {
   "cell_type": "code",
   "execution_count": 11,
   "metadata": {},
   "outputs": [
    {
     "data": {
      "image/png": "[encoded data removed]",
      "text/plain": [
       "<Figure size 1000x600 with 1 Axes>"
      ]
     },
     "metadata": {},
     "output_type": "display_data"
    }
   ],
   "source": [
    "epochs = range(1, len(perp_vis_t) + 1)  # Assuming each entry corresponds to an epoch\n",
    "\n",
    "plt.figure(figsize=(10, 6))\n",
    "plt.plot(epochs, perp_vis_t, marker='o', linestyle='-', color='blue', label='Training Perplexity')\n",
    "plt.plot(epochs, perp_vis_val, marker='o', linestyle='--', color='red', label='Validation Perplexity')\n",
    "plt.xlabel('Epochs')\n",
    "plt.ylabel('Perplexity')\n",
    "plt.title('Training and Validation Perplexity Over Epochs')\n",
    "plt.legend()\n",
    "plt.savefig('perplexity_plot.png')\n",
    "# plt.show()\n",
    "\n",
    "\n",
    "# Save the entire model\n",
    "torch.save(model, 'model/model_LM1.pth')"
   ]
  }
 ],
 "metadata": {
  "kernelspec": {
   "display_name": "Python 3",
   "language": "python",
   "name": "python3"
  },
  "language_info": {
   "codemirror_mode": {
    "name": "ipython",
    "version": 3
   },
   "file_extension": ".py",
   "mimetype": "text/x-python",
   "name": "python",
   "nbconvert_exporter": "python",
   "pygments_lexer": "ipython3",
   "version": "3.11.5"
  }
 },
 "nbformat": 4,
 "nbformat_minor": 2
}
